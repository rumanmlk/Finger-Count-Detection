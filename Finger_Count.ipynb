{
 "cells": [
  {
   "cell_type": "markdown",
   "metadata": {},
   "source": [
    "# Finger DetectionProject\n",
    "\n",
    "## Finger Detection and Counting"
   ]
  },
  {
   "cell_type": "markdown",
   "metadata": {},
   "source": [
    "## Imports"
   ]
  },
  {
   "cell_type": "code",
   "execution_count": 27,
   "metadata": {},
   "outputs": [],
   "source": [
    "import cv2\n",
    "import numpy as np\n",
    "from sklearn.metrics import pairwise"
   ]
  },
  {
   "cell_type": "markdown",
   "metadata": {},
   "source": [
    "### Global Variables\n",
    "\n",
    "We will use these as we go along."
   ]
  },
  {
   "cell_type": "code",
   "execution_count": 30,
   "metadata": {},
   "outputs": [],
   "source": [
    "# This background will be a global variable that we update through a few functions\n",
    "background = None\n",
    "\n",
    "# Start with a halfway point between 0 and 1 of accumulated weight\n",
    "accumulated_weight = 0.2\n",
    "\n",
    "# Manually set up our ROI for grabbing the hand.\n",
    "# Feel free to change these. I just chose the top right corner for filming.\n",
    "roi_top = 20\n",
    "roi_bottom = 300\n",
    "roi_left = 300\n",
    "roi_right = 600\n"
   ]
  },
  {
   "cell_type": "markdown",
   "metadata": {},
   "source": [
    "## Finding Average Background Value\n",
    "\n",
    "This function updates the background model by blending the current frame into the existing background using a weighted average.\n",
    "\n",
    "The function calculates the weighted sum of the input image src and the accumulator dst so that dst becomes a running average of a frame sequence:"
   ]
  },
  {
   "cell_type": "code",
   "execution_count": 33,
   "metadata": {},
   "outputs": [],
   "source": [
    "def calc_accum_avg(frame, accumulated_weight):\n",
    "    '''\n",
    "    Given a frame and a previous accumulated weight, computed the weighted average of the image passed in.\n",
    "    '''\n",
    "\n",
    "    # Grab the background\n",
    "    global background\n",
    "    \n",
    "    # For first time, create the background from a copy of the frame.\n",
    "    if background is None:\n",
    "        background = frame.copy().astype('float')\n",
    "        return None\n",
    "        \n",
    "    # compute weighted average, accumulate it and update the background\n",
    "    cv2.accumulateWeighted(frame, background, accumulated_weight)\n"
   ]
  },
  {
   "cell_type": "markdown",
   "metadata": {},
   "source": [
    "## Segment the Hand Region in Frame\n",
    "\n",
    "This function detects the hand by comparing the current frame against the background.\n",
    "\n",
    "Compute the absolute difference between the background and the current frame.\n",
    "Apply a binary threshold to highlight the hand.\n",
    "Extract contours from the thresholded image and return the largest contour, which corresponds to the hand.\n",
    "\n"
   ]
  },
  {
   "cell_type": "code",
   "execution_count": 36,
   "metadata": {},
   "outputs": [],
   "source": [
    "def segment(frame, threshold_min=50):\n",
    "\n",
    "    # Calculates the Absolute Difference between the background and the passed-in frame\n",
    "    diff = cv2.absdiff(background.astype('uint8'), frame)\n",
    "\n",
    "    # Apply a threshold to the image so we can grab the foreground\n",
    "    ret, thresholded = cv2.threshold(diff, threshold_min, 255, cv2.THRESH_BINARY)\n",
    "\n",
    "    # Grab the external contours from the image\n",
    "    # Updated for newer OpenCV versions: only two return values\n",
    "    contours, hierarchy = cv2.findContours(\n",
    "        thresholded.copy(), cv2.RETR_EXTERNAL, cv2.CHAIN_APPROX_SIMPLE)\n",
    "\n",
    "    # If the length of contours list is 0, then we didn't grab any contours!\n",
    "    if len(contours) == 0:\n",
    "        return None\n",
    "    else:\n",
    "        # The largest external contour should be the hand\n",
    "        hand_segment = max(contours, key=cv2.contourArea)\n",
    "\n",
    "        # Return both the hand segment and the thresholded hand image\n",
    "        return (thresholded, hand_segment)\n"
   ]
  },
  {
   "cell_type": "markdown",
   "metadata": {},
   "source": [
    "## Counting Fingers with a Convex Hull\n",
    "\n",
    "This function estimates the number of fingers based on the hand's contour.\n",
    "\n",
    "Compute the convex hull of the hand segment.\n",
    "Identify the extreme points of the convex hull to determine the hand's center and radius.\n",
    "Create a circular Region of Interest (ROI) centered around the hand.\n",
    "Count contours within the circular ROI, excluding potential noise (e.g., wrist).\n",
    "\n",
    "\n",
    "Example of ConvexHulls:\n",
    "\n",
    "<img src=\"hand_convex.png\">"
   ]
  },
  {
   "cell_type": "code",
   "execution_count": 39,
   "metadata": {},
   "outputs": [],
   "source": [
    "def count_fingers(thresholded, hand_segment):\n",
    "    conv_hull = cv2.convexHull(hand_segment)\n",
    "\n",
    "    # Extreme points\n",
    "    top    = tuple(conv_hull[conv_hull[:, :, 1].argmin()][0])\n",
    "    bottom = tuple(conv_hull[conv_hull[:, :, 1].argmax()][0])\n",
    "    left   = tuple(conv_hull[conv_hull[:, :, 0].argmin()][0])\n",
    "    right  = tuple(conv_hull[conv_hull[:, :, 0].argmax()][0])\n",
    "\n",
    "    # Center of the hand\n",
    "    cX = (left[0] + right[0]) // 2\n",
    "    cY = (top[1] + bottom[1]) // 2\n",
    "\n",
    "    # Euclidean distances from the center to the extreme points\n",
    "    points = np.array([left, right, top, bottom])\n",
    "    distance = pairwise.euclidean_distances([(cX, cY)], Y=points)[0]\n",
    "    max_distance = distance.max()\n",
    "\n",
    "    radius = int(0.8 * max_distance)\n",
    "    circumference = 2 * np.pi * radius\n",
    "\n",
    "    # Create circular ROI\n",
    "    circular_roi = np.zeros(thresholded.shape[:2], dtype='uint8')\n",
    "\n",
    "    # Draw the circular ROI\n",
    "    cv2.circle(circular_roi, (cX, cY), radius, 255, 10)\n",
    "\n",
    "    # Using bitwise AND to get the cutout of the hand\n",
    "    circular_roi = cv2.bitwise_and(thresholded, thresholded, mask=circular_roi)\n",
    "\n",
    "    # Find contours in circular ROI\n",
    "    contours, hierarchy = cv2.findContours(\n",
    "        circular_roi.copy(), cv2.RETR_EXTERNAL, cv2.CHAIN_APPROX_NONE)\n",
    "\n",
    "    count = 0\n",
    "    for cnt in contours:\n",
    "        (x, y, w, h) = cv2.boundingRect(cnt)\n",
    "\n",
    "        # Check if the contour is not the wrist\n",
    "        if (cY + (cY * 0.25)) > (y + h):\n",
    "            # Limit the points\n",
    "            if (circumference * 0.25) > cnt.shape[0]:\n",
    "                count += 1\n",
    "\n",
    "    return count\n"
   ]
  },
  {
   "cell_type": "markdown",
   "metadata": {},
   "source": [
    "## Run Program\n",
    "Convert the ROI to grayscale and blur it.\n",
    "Update the background model if it's the first 60 frames.\n",
    "After 60 frames, perform hand segmentation and count fingers.\n",
    "Display the results on the frame and show additional debugging information (e.g., background model and difference image).\n"
   ]
  },
  {
   "cell_type": "code",
   "execution_count": 42,
   "metadata": {},
   "outputs": [],
   "source": [
    "# Start capturing video from webcam\n",
    "cam = cv2.VideoCapture(0)\n",
    "num_frames = 0\n",
    "\n",
    "while True:\n",
    "    ret, frame = cam.read()\n",
    "    if not ret:\n",
    "        break\n",
    "\n",
    "    frame_copy = frame.copy()\n",
    "\n",
    "    # Flip the frame to avoid mirror image effect\n",
    "    frame = cv2.flip(frame, 1)\n",
    "    frame_copy = cv2.flip(frame_copy, 1)\n",
    "\n",
    "    # Extract ROI\n",
    "    roi = frame[roi_top:roi_bottom, roi_left:roi_right]\n",
    "\n",
    "    # Convert ROI to grayscale and blur it\n",
    "    gray = cv2.cvtColor(roi, cv2.COLOR_BGR2GRAY)\n",
    "    gray = cv2.GaussianBlur(gray, (7, 7), 0)\n",
    "\n",
    "    if num_frames < 60:\n",
    "        calc_accum_avg(gray, accumulated_weight)\n",
    "        if num_frames <= 59:\n",
    "            cv2.putText(frame_copy, 'WAIT. GETTING BACKGROUND', (200, 50),\n",
    "                        cv2.FONT_HERSHEY_SIMPLEX, 0.9, (0, 0, 255), 2)\n",
    "            cv2.imshow('Finger Count', frame_copy)\n",
    "    else:\n",
    "        hand = segment(gray)\n",
    "\n",
    "        if hand is not None:\n",
    "            thresholded, hand_segment = hand\n",
    "\n",
    "            # Draw contours around hand segment\n",
    "            cv2.drawContours(frame_copy, [hand_segment + (roi_left, roi_top)],\n",
    "                             -1, (255, 0, 0), 5)\n",
    "\n",
    "            fingers = count_fingers(thresholded, hand_segment)\n",
    "\n",
    "            # Display finger count\n",
    "            cv2.putText(frame_copy, str(fingers), (70, 50),\n",
    "                        cv2.FONT_HERSHEY_SIMPLEX, 1, (0, 0, 255), 2)\n",
    "\n",
    "            # Display thresholded image\n",
    "            cv2.imshow('Thresholded', thresholded)\n",
    "\n",
    "        else:\n",
    "            cv2.putText(frame_copy, 'No hand detected', (200, 50),\n",
    "                        cv2.FONT_HERSHEY_SIMPLEX, 0.9, (0, 0, 255), 2)\n",
    "\n",
    "    # Draw ROI rectangle on the frame\n",
    "    cv2.rectangle(frame_copy, (roi_left, roi_top),\n",
    "                  (roi_right, roi_bottom), (0, 255, 0), 2)\n",
    "\n",
    "    num_frames += 1\n",
    "\n",
    "    # Display frames\n",
    "    cv2.imshow('Finger Count', frame_copy)\n",
    "\n",
    "    # Display background model and difference image for debugging\n",
    "    if background is not None:\n",
    "        cv2.imshow('Background Model', background.astype('uint8'))\n",
    "\n",
    "    if num_frames >= 60:\n",
    "        diff = cv2.absdiff(background.astype('uint8'), gray)\n",
    "        cv2.imshow('Difference Image', diff)\n",
    "\n",
    "    # Exit on pressing 'Esc'\n",
    "    k = cv2.waitKey(1) & 0xFF\n",
    "    if k == 27:\n",
    "        break\n",
    "\n",
    "cam.release()\n",
    "cv2.destroyAllWindows()\n"
   ]
  },
  {
   "cell_type": "code",
   "execution_count": null,
   "metadata": {},
   "outputs": [],
   "source": []
  }
 ],
 "metadata": {
  "kernelspec": {
   "display_name": "Python 3 (ipykernel)",
   "language": "python",
   "name": "python3"
  },
  "language_info": {
   "codemirror_mode": {
    "name": "ipython",
    "version": 3
   },
   "file_extension": ".py",
   "mimetype": "text/x-python",
   "name": "python",
   "nbconvert_exporter": "python",
   "pygments_lexer": "ipython3",
   "version": "3.11.7"
  }
 },
 "nbformat": 4,
 "nbformat_minor": 4
}
